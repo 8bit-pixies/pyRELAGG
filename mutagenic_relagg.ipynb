{
 "cells": [
  {
   "cell_type": "code",
   "execution_count": 247,
   "metadata": {
    "collapsed": true
   },
   "outputs": [],
   "source": [
    "import pandas as pd\n",
    "import numpy as np\n",
    "import networkx as nx\n",
    "\n",
    "from sklearn.model_selection import KFold\n",
    "from sklearn.model_selection import cross_val_score\n",
    "from sklearn.metrics import mean_squared_error\n",
    "from sklearn.metrics import make_scorer\n",
    "from sklearn.linear_model import SGDClassifier\n",
    "from sklearn.pipeline import make_pipeline\n",
    "from sklearn.feature_selection import SelectFwe, f_classif # f score"
   ]
  },
  {
   "cell_type": "code",
   "execution_count": 2,
   "metadata": {
    "collapsed": true
   },
   "outputs": [],
   "source": [
    "atom = pd.read_pickle('atom.pkl')\n",
    "bond = pd.read_pickle('bond.pkl')\n",
    "molecule = pd.read_pickle('molecule.pkl')"
   ]
  },
  {
   "cell_type": "code",
   "execution_count": 3,
   "metadata": {
    "collapsed": false
   },
   "outputs": [
    {
     "data": {
      "text/html": [
       "<div>\n",
       "<table border=\"1\" class=\"dataframe\">\n",
       "  <thead>\n",
       "    <tr style=\"text-align: right;\">\n",
       "      <th></th>\n",
       "      <th>atom_id</th>\n",
       "      <th>charge</th>\n",
       "      <th>element</th>\n",
       "      <th>molecule_id</th>\n",
       "      <th>type</th>\n",
       "    </tr>\n",
       "  </thead>\n",
       "  <tbody>\n",
       "    <tr>\n",
       "      <th>0</th>\n",
       "      <td>d100_1</td>\n",
       "      <td>-0.128</td>\n",
       "      <td>c</td>\n",
       "      <td>d100</td>\n",
       "      <td>22</td>\n",
       "    </tr>\n",
       "    <tr>\n",
       "      <th>1</th>\n",
       "      <td>d100_10</td>\n",
       "      <td>0.132</td>\n",
       "      <td>h</td>\n",
       "      <td>d100</td>\n",
       "      <td>3</td>\n",
       "    </tr>\n",
       "    <tr>\n",
       "      <th>2</th>\n",
       "      <td>d100_11</td>\n",
       "      <td>0.002</td>\n",
       "      <td>c</td>\n",
       "      <td>d100</td>\n",
       "      <td>29</td>\n",
       "    </tr>\n",
       "    <tr>\n",
       "      <th>3</th>\n",
       "      <td>d100_12</td>\n",
       "      <td>-0.128</td>\n",
       "      <td>c</td>\n",
       "      <td>d100</td>\n",
       "      <td>22</td>\n",
       "    </tr>\n",
       "    <tr>\n",
       "      <th>4</th>\n",
       "      <td>d100_13</td>\n",
       "      <td>-0.128</td>\n",
       "      <td>c</td>\n",
       "      <td>d100</td>\n",
       "      <td>22</td>\n",
       "    </tr>\n",
       "  </tbody>\n",
       "</table>\n",
       "</div>"
      ],
      "text/plain": [
       "   atom_id  charge element molecule_id  type\n",
       "0   d100_1  -0.128       c        d100    22\n",
       "1  d100_10   0.132       h        d100     3\n",
       "2  d100_11   0.002       c        d100    29\n",
       "3  d100_12  -0.128       c        d100    22\n",
       "4  d100_13  -0.128       c        d100    22"
      ]
     },
     "execution_count": 3,
     "metadata": {},
     "output_type": "execute_result"
    }
   ],
   "source": [
    "atom.head()"
   ]
  },
  {
   "cell_type": "code",
   "execution_count": 4,
   "metadata": {
    "collapsed": false
   },
   "outputs": [
    {
     "data": {
      "text/html": [
       "<div>\n",
       "<table border=\"1\" class=\"dataframe\">\n",
       "  <thead>\n",
       "    <tr style=\"text-align: right;\">\n",
       "      <th></th>\n",
       "      <th>atom1_id</th>\n",
       "      <th>atom2_id</th>\n",
       "      <th>type</th>\n",
       "    </tr>\n",
       "  </thead>\n",
       "  <tbody>\n",
       "    <tr>\n",
       "      <th>0</th>\n",
       "      <td>d100_1</td>\n",
       "      <td>d100_2</td>\n",
       "      <td>7</td>\n",
       "    </tr>\n",
       "    <tr>\n",
       "      <th>1</th>\n",
       "      <td>d100_1</td>\n",
       "      <td>d100_7</td>\n",
       "      <td>1</td>\n",
       "    </tr>\n",
       "    <tr>\n",
       "      <th>2</th>\n",
       "      <td>d100_11</td>\n",
       "      <td>d100_12</td>\n",
       "      <td>7</td>\n",
       "    </tr>\n",
       "    <tr>\n",
       "      <th>3</th>\n",
       "      <td>d100_12</td>\n",
       "      <td>d100_13</td>\n",
       "      <td>7</td>\n",
       "    </tr>\n",
       "    <tr>\n",
       "      <th>4</th>\n",
       "      <td>d100_12</td>\n",
       "      <td>d100_17</td>\n",
       "      <td>1</td>\n",
       "    </tr>\n",
       "  </tbody>\n",
       "</table>\n",
       "</div>"
      ],
      "text/plain": [
       "  atom1_id atom2_id  type\n",
       "0   d100_1   d100_2     7\n",
       "1   d100_1   d100_7     1\n",
       "2  d100_11  d100_12     7\n",
       "3  d100_12  d100_13     7\n",
       "4  d100_12  d100_17     1"
      ]
     },
     "execution_count": 4,
     "metadata": {},
     "output_type": "execute_result"
    }
   ],
   "source": [
    "bond.head()"
   ]
  },
  {
   "cell_type": "code",
   "execution_count": 5,
   "metadata": {
    "collapsed": false
   },
   "outputs": [
    {
     "data": {
      "text/html": [
       "<div>\n",
       "<table border=\"1\" class=\"dataframe\">\n",
       "  <thead>\n",
       "    <tr style=\"text-align: right;\">\n",
       "      <th></th>\n",
       "      <th>ind1</th>\n",
       "      <th>inda</th>\n",
       "      <th>logp</th>\n",
       "      <th>lumo</th>\n",
       "      <th>molecule_id</th>\n",
       "      <th>mutagenic</th>\n",
       "    </tr>\n",
       "  </thead>\n",
       "  <tbody>\n",
       "    <tr>\n",
       "      <th>0</th>\n",
       "      <td>1</td>\n",
       "      <td>0</td>\n",
       "      <td>4.23</td>\n",
       "      <td>-1.246</td>\n",
       "      <td>d1</td>\n",
       "      <td>yes</td>\n",
       "    </tr>\n",
       "    <tr>\n",
       "      <th>1</th>\n",
       "      <td>1</td>\n",
       "      <td>0</td>\n",
       "      <td>4.62</td>\n",
       "      <td>-1.387</td>\n",
       "      <td>d10</td>\n",
       "      <td>yes</td>\n",
       "    </tr>\n",
       "    <tr>\n",
       "      <th>2</th>\n",
       "      <td>0</td>\n",
       "      <td>0</td>\n",
       "      <td>2.68</td>\n",
       "      <td>-1.034</td>\n",
       "      <td>d100</td>\n",
       "      <td>no</td>\n",
       "    </tr>\n",
       "    <tr>\n",
       "      <th>3</th>\n",
       "      <td>1</td>\n",
       "      <td>0</td>\n",
       "      <td>6.26</td>\n",
       "      <td>-1.598</td>\n",
       "      <td>d101</td>\n",
       "      <td>yes</td>\n",
       "    </tr>\n",
       "    <tr>\n",
       "      <th>4</th>\n",
       "      <td>1</td>\n",
       "      <td>0</td>\n",
       "      <td>2.40</td>\n",
       "      <td>-3.172</td>\n",
       "      <td>d102</td>\n",
       "      <td>yes</td>\n",
       "    </tr>\n",
       "  </tbody>\n",
       "</table>\n",
       "</div>"
      ],
      "text/plain": [
       "   ind1  inda  logp   lumo molecule_id mutagenic\n",
       "0     1     0  4.23 -1.246          d1       yes\n",
       "1     1     0  4.62 -1.387         d10       yes\n",
       "2     0     0  2.68 -1.034        d100        no\n",
       "3     1     0  6.26 -1.598        d101       yes\n",
       "4     1     0  2.40 -3.172        d102       yes"
      ]
     },
     "execution_count": 5,
     "metadata": {},
     "output_type": "execute_result"
    }
   ],
   "source": [
    "molecule.head()"
   ]
  },
  {
   "cell_type": "markdown",
   "metadata": {},
   "source": [
    "Aim of this dataset is to determine if molecules are mutagenic.\n",
    "\n",
    "Outline of procedure to apply RELAGG is to:\n",
    "1. Determine all the pairwise id relationships used to join\n",
    "2. Determine the star schema which we wish to aggregate\n",
    "3. Produce a flattened dataset as needed\n",
    "\n",
    "---\n",
    "\n",
    "To produce the correct dataset I propose that we:\n",
    "\n",
    "*  produce pair wise relationship `molecule_id -> atom_id -> [atom1_id, atom2_id] -> atom_id`"
   ]
  },
  {
   "cell_type": "code",
   "execution_count": 26,
   "metadata": {
    "collapsed": true
   },
   "outputs": [],
   "source": [
    "m_atom = atom[['molecule_id', 'atom_id']].to_dict(orient='records')\n",
    "atom_a1 = bond[['atom1_id', 'atom2_id']].rename(columns={'atom2_id':'atom_id'}).to_dict(orient='records')\n",
    "atom_a2 = bond[['atom1_id', 'atom2_id']].rename(columns={'atom1_id':'atom_id'}).to_dict(orient='records')\n",
    "\n",
    "# produce a flatten structure with all data"
   ]
  },
  {
   "cell_type": "code",
   "execution_count": 27,
   "metadata": {
    "collapsed": false
   },
   "outputs": [],
   "source": [
    "m_atom_pairs = [(\"molecule_id:{}\".format(x['molecule_id']), \"atom_id:{}\".format(x['atom_id']))\n",
    "  for x in m_atom\n",
    "]\n",
    "atom_a2_pairs = [(\"atom_id:{}\".format(x['atom_id']), \"atom_id:{}\".format(x['atom2_id']))\n",
    "  for x in atom_a2\n",
    "]\n",
    "atom_a1_pairs = [(\"atom_id:{}\".format(x['atom_id']), \"atom_id:{}\".format(x['atom1_id']))\n",
    "  for x in atom_a1\n",
    "]\n"
   ]
  },
  {
   "cell_type": "code",
   "execution_count": 174,
   "metadata": {
    "collapsed": true
   },
   "outputs": [],
   "source": [
    "all_molecule_id = list(set([x[0] for x in m_atom_pairs]))\n",
    "\n",
    "G = nx.Graph() # we have cycles in this representation\n",
    "G.add_nodes_from(all_molecule_id) # orient from entity level of molecule\n",
    "G.add_nodes_from([x[1] for x in m_atom_pairs]) # add all atoms\n",
    "G.add_edges_from(m_atom_pairs)\n",
    "G.add_edges_from(atom_a2_pairs)\n",
    "G.add_edges_from(atom_a1_pairs)"
   ]
  },
  {
   "cell_type": "code",
   "execution_count": 175,
   "metadata": {
    "collapsed": false
   },
   "outputs": [
    {
     "data": {
      "text/plain": [
       "['molecule_id:d88',\n",
       " 'atom_id:d88_1',\n",
       " 'atom_id:d88_10',\n",
       " 'atom_id:d88_11',\n",
       " 'atom_id:d88_12',\n",
       " 'atom_id:d88_13',\n",
       " 'atom_id:d88_14',\n",
       " 'atom_id:d88_15',\n",
       " 'atom_id:d88_16',\n",
       " 'atom_id:d88_17',\n",
       " 'atom_id:d88_18',\n",
       " 'atom_id:d88_19',\n",
       " 'atom_id:d88_2',\n",
       " 'atom_id:d88_3',\n",
       " 'atom_id:d88_4',\n",
       " 'atom_id:d88_5',\n",
       " 'atom_id:d88_6',\n",
       " 'atom_id:d88_7',\n",
       " 'atom_id:d88_8',\n",
       " 'atom_id:d88_9']"
      ]
     },
     "execution_count": 175,
     "metadata": {},
     "output_type": "execute_result"
    }
   ],
   "source": [
    "# To get all atoms connected to molecule we would do this:\n",
    "list(nx.single_source_shortest_path_length(G, all_molecule_id[0]).keys())"
   ]
  },
  {
   "cell_type": "code",
   "execution_count": 176,
   "metadata": {
    "collapsed": false
   },
   "outputs": [],
   "source": [
    "def clean_molecule_atom_rship(ls):\n",
    "    atoms = [x.split(':')[1] for x in ls if not x.startswith(\"molecule\")]\n",
    "    molecule = [x.split(':')[1] for x in ls if x.startswith(\"molecule\")][0]\n",
    "    return (molecule, atoms)"
   ]
  },
  {
   "cell_type": "code",
   "execution_count": 177,
   "metadata": {
    "collapsed": false
   },
   "outputs": [
    {
     "data": {
      "text/plain": [
       "('d88',\n",
       " ['d88_1',\n",
       "  'd88_10',\n",
       "  'd88_11',\n",
       "  'd88_12',\n",
       "  'd88_13',\n",
       "  'd88_14',\n",
       "  'd88_15',\n",
       "  'd88_16',\n",
       "  'd88_17',\n",
       "  'd88_18',\n",
       "  'd88_19',\n",
       "  'd88_2',\n",
       "  'd88_3',\n",
       "  'd88_4',\n",
       "  'd88_5',\n",
       "  'd88_6',\n",
       "  'd88_7',\n",
       "  'd88_8',\n",
       "  'd88_9'])"
      ]
     },
     "execution_count": 177,
     "metadata": {},
     "output_type": "execute_result"
    }
   ],
   "source": [
    "# get all relationships of interest at molecule level\n",
    "molecule_level_rship = [\n",
    "    clean_molecule_atom_rship(list(nx.single_source_shortest_path_length(G, x).keys())) for x in \n",
    "    all_molecule_id\n",
    "]\n",
    "molecule_level_rship[0]"
   ]
  },
  {
   "cell_type": "markdown",
   "metadata": {},
   "source": [
    "From here we will need to aggregate all this data to a single record. \n",
    "\n",
    "Assume columns:\n",
    "*  `type` are categorical\n",
    "\n",
    "We will only use te `atom` table as the flat entity table."
   ]
  },
  {
   "cell_type": "code",
   "execution_count": 178,
   "metadata": {
    "collapsed": true
   },
   "outputs": [],
   "source": [
    "def dataframe_info(df, prefix='num'):\n",
    "    \"\"\"\n",
    "    returns a dataframe with a single row, \n",
    "    where the column names as `col_{statistic}`\n",
    "    \"\"\"\n",
    "    #df = pd.DataFrame({col: srs})\n",
    "    def percentile(n):\n",
    "        def percentile_(x):\n",
    "            return np.percentile(x, n)\n",
    "        percentile_.__name__ = 'percentile_%s' % n\n",
    "        return percentile_\n",
    "    df_desc = df.groupby([True]*len(df)).agg([np.sum, np.mean, np.std, np.median,\n",
    "                    np.var, np.min, np.max, percentile(5), percentile(25), \n",
    "                    percentile(50), percentile(75), percentile(95)])\n",
    "    df_desc.reset_index(drop=True, inplace=True)\n",
    "    df_desc.columns = [('_{}_'.format(prefix)).join(x).strip() for x in df_desc.columns.values]\n",
    "    return df_desc"
   ]
  },
  {
   "cell_type": "code",
   "execution_count": 214,
   "metadata": {
    "collapsed": true
   },
   "outputs": [],
   "source": [
    "def dataset_info(df, entity_name, entity_id, numeric=None, factor=None, factor_num = 50):\n",
    "    \"\"\"\n",
    "    will flatten a dataset based on numeric and factor variables\n",
    "    factor variables will change to one-hot encoding.\n",
    "    \"\"\"\n",
    "    df_info = []\n",
    "    if numeric is None:\n",
    "        newdf = dataframe_info(df.select_dtypes(include=[np.number]))\n",
    "    else:\n",
    "        newdf = dataframe_info(df[numeric])\n",
    "        \n",
    "    # factor information will one hot if unique number is less than 50\n",
    "    if factor is None:\n",
    "        factor = []\n",
    "        for col in df.columns:\n",
    "            if len(df[col].unique()) <= factor_num and not col.startswith(entity_name):\n",
    "                factor.append(col)\n",
    "    \n",
    "    newfactor = dataframe_info(pd.get_dummies(df[factor]), 'factor')\n",
    "    flatten_df = pd.concat([pd.DataFrame({entity_name:[entity_id]}), \n",
    "                            newdf, newfactor], axis=1)\n",
    "    return flatten_df\n"
   ]
  },
  {
   "cell_type": "code",
   "execution_count": 215,
   "metadata": {
    "collapsed": false,
    "scrolled": true
   },
   "outputs": [
    {
     "data": {
      "text/plain": [
       "['molecule_id',\n",
       " 'charge_num_sum',\n",
       " 'charge_num_mean',\n",
       " 'charge_num_std',\n",
       " 'charge_num_median',\n",
       " 'charge_num_var',\n",
       " 'charge_num_amin',\n",
       " 'charge_num_amax',\n",
       " 'charge_num_percentile_5',\n",
       " 'charge_num_percentile_25',\n",
       " 'charge_num_percentile_50',\n",
       " 'charge_num_percentile_75',\n",
       " 'charge_num_percentile_95',\n",
       " 'type_num_sum',\n",
       " 'type_num_mean',\n",
       " 'type_num_std',\n",
       " 'type_num_median',\n",
       " 'type_num_var',\n",
       " 'type_num_amin',\n",
       " 'type_num_amax',\n",
       " 'type_num_percentile_5',\n",
       " 'type_num_percentile_25',\n",
       " 'type_num_percentile_50',\n",
       " 'type_num_percentile_75',\n",
       " 'type_num_percentile_95',\n",
       " 'charge_factor_sum',\n",
       " 'charge_factor_mean',\n",
       " 'charge_factor_std',\n",
       " 'charge_factor_median',\n",
       " 'charge_factor_var',\n",
       " 'charge_factor_amin',\n",
       " 'charge_factor_amax',\n",
       " 'charge_factor_percentile_5',\n",
       " 'charge_factor_percentile_25',\n",
       " 'charge_factor_percentile_50',\n",
       " 'charge_factor_percentile_75',\n",
       " 'charge_factor_percentile_95',\n",
       " 'type_factor_sum',\n",
       " 'type_factor_mean',\n",
       " 'type_factor_std',\n",
       " 'type_factor_median',\n",
       " 'type_factor_var',\n",
       " 'type_factor_amin',\n",
       " 'type_factor_amax',\n",
       " 'type_factor_percentile_5',\n",
       " 'type_factor_percentile_25',\n",
       " 'type_factor_percentile_50',\n",
       " 'type_factor_percentile_75',\n",
       " 'type_factor_percentile_95',\n",
       " 'element_c_factor_sum',\n",
       " 'element_c_factor_mean',\n",
       " 'element_c_factor_std',\n",
       " 'element_c_factor_median',\n",
       " 'element_c_factor_var',\n",
       " 'element_c_factor_amin',\n",
       " 'element_c_factor_amax',\n",
       " 'element_c_factor_percentile_5',\n",
       " 'element_c_factor_percentile_25',\n",
       " 'element_c_factor_percentile_50',\n",
       " 'element_c_factor_percentile_75',\n",
       " 'element_c_factor_percentile_95',\n",
       " 'element_h_factor_sum',\n",
       " 'element_h_factor_mean',\n",
       " 'element_h_factor_std',\n",
       " 'element_h_factor_median',\n",
       " 'element_h_factor_var',\n",
       " 'element_h_factor_amin',\n",
       " 'element_h_factor_amax',\n",
       " 'element_h_factor_percentile_5',\n",
       " 'element_h_factor_percentile_25',\n",
       " 'element_h_factor_percentile_50',\n",
       " 'element_h_factor_percentile_75',\n",
       " 'element_h_factor_percentile_95',\n",
       " 'element_n_factor_sum',\n",
       " 'element_n_factor_mean',\n",
       " 'element_n_factor_std',\n",
       " 'element_n_factor_median',\n",
       " 'element_n_factor_var',\n",
       " 'element_n_factor_amin',\n",
       " 'element_n_factor_amax',\n",
       " 'element_n_factor_percentile_5',\n",
       " 'element_n_factor_percentile_25',\n",
       " 'element_n_factor_percentile_50',\n",
       " 'element_n_factor_percentile_75',\n",
       " 'element_n_factor_percentile_95',\n",
       " 'element_o_factor_sum',\n",
       " 'element_o_factor_mean',\n",
       " 'element_o_factor_std',\n",
       " 'element_o_factor_median',\n",
       " 'element_o_factor_var',\n",
       " 'element_o_factor_amin',\n",
       " 'element_o_factor_amax',\n",
       " 'element_o_factor_percentile_5',\n",
       " 'element_o_factor_percentile_25',\n",
       " 'element_o_factor_percentile_50',\n",
       " 'element_o_factor_percentile_75',\n",
       " 'element_o_factor_percentile_95']"
      ]
     },
     "execution_count": 215,
     "metadata": {},
     "output_type": "execute_result"
    }
   ],
   "source": [
    "list(dataset_info(atom[atom['atom_id'].isin(molecule_level_rship[0][1])].drop('atom_id', axis=1), \n",
    "             'molecule_id', \n",
    "            molecule_level_rship[0][0]).columns)"
   ]
  },
  {
   "cell_type": "code",
   "execution_count": 216,
   "metadata": {
    "collapsed": false
   },
   "outputs": [],
   "source": [
    "# construct this for all columns...\n",
    "molecule_atom_flat = pd.concat([\n",
    "    dataset_info(atom[atom['atom_id'].isin(x[1])].drop('atom_id', axis=1), \n",
    "             'molecule_id', \n",
    "            x[0])\n",
    "    for x in molecule_level_rship\n",
    "])"
   ]
  },
  {
   "cell_type": "code",
   "execution_count": 217,
   "metadata": {
    "collapsed": false
   },
   "outputs": [
    {
     "data": {
      "text/html": [
       "<div>\n",
       "<table border=\"1\" class=\"dataframe\">\n",
       "  <thead>\n",
       "    <tr style=\"text-align: right;\">\n",
       "      <th></th>\n",
       "      <th>charge_factor_amax</th>\n",
       "      <th>charge_factor_amin</th>\n",
       "      <th>charge_factor_mean</th>\n",
       "      <th>charge_factor_median</th>\n",
       "      <th>charge_factor_percentile_25</th>\n",
       "      <th>charge_factor_percentile_5</th>\n",
       "      <th>charge_factor_percentile_50</th>\n",
       "      <th>charge_factor_percentile_75</th>\n",
       "      <th>charge_factor_percentile_95</th>\n",
       "      <th>charge_factor_std</th>\n",
       "      <th>...</th>\n",
       "      <th>type_num_mean</th>\n",
       "      <th>type_num_median</th>\n",
       "      <th>type_num_percentile_25</th>\n",
       "      <th>type_num_percentile_5</th>\n",
       "      <th>type_num_percentile_50</th>\n",
       "      <th>type_num_percentile_75</th>\n",
       "      <th>type_num_percentile_95</th>\n",
       "      <th>type_num_std</th>\n",
       "      <th>type_num_sum</th>\n",
       "      <th>type_num_var</th>\n",
       "    </tr>\n",
       "  </thead>\n",
       "  <tbody>\n",
       "    <tr>\n",
       "      <th>0</th>\n",
       "      <td>0.800</td>\n",
       "      <td>-0.580</td>\n",
       "      <td>1.168656e-17</td>\n",
       "      <td>0.001</td>\n",
       "      <td>-0.12900</td>\n",
       "      <td>-0.41800</td>\n",
       "      <td>0.001</td>\n",
       "      <td>0.13000</td>\n",
       "      <td>0.575</td>\n",
       "      <td>0.312473</td>\n",
       "      <td>...</td>\n",
       "      <td>17.736842</td>\n",
       "      <td>22.0</td>\n",
       "      <td>3.0</td>\n",
       "      <td>3.0</td>\n",
       "      <td>22.0</td>\n",
       "      <td>22.0</td>\n",
       "      <td>40.2</td>\n",
       "      <td>14.324967</td>\n",
       "      <td>337</td>\n",
       "      <td>205.204678</td>\n",
       "    </tr>\n",
       "    <tr>\n",
       "      <th>0</th>\n",
       "      <td>0.810</td>\n",
       "      <td>-0.390</td>\n",
       "      <td>1.189525e-17</td>\n",
       "      <td>-0.121</td>\n",
       "      <td>-0.24850</td>\n",
       "      <td>-0.39000</td>\n",
       "      <td>-0.121</td>\n",
       "      <td>0.13900</td>\n",
       "      <td>0.485</td>\n",
       "      <td>0.332562</td>\n",
       "      <td>...</td>\n",
       "      <td>31.642857</td>\n",
       "      <td>22.0</td>\n",
       "      <td>22.0</td>\n",
       "      <td>3.0</td>\n",
       "      <td>22.0</td>\n",
       "      <td>39.5</td>\n",
       "      <td>92.0</td>\n",
       "      <td>28.399911</td>\n",
       "      <td>443</td>\n",
       "      <td>806.554945</td>\n",
       "    </tr>\n",
       "    <tr>\n",
       "      <th>0</th>\n",
       "      <td>0.806</td>\n",
       "      <td>-0.394</td>\n",
       "      <td>4.625929e-18</td>\n",
       "      <td>0.005</td>\n",
       "      <td>-0.12425</td>\n",
       "      <td>-0.35365</td>\n",
       "      <td>0.005</td>\n",
       "      <td>0.07525</td>\n",
       "      <td>0.136</td>\n",
       "      <td>0.226129</td>\n",
       "      <td>...</td>\n",
       "      <td>16.458333</td>\n",
       "      <td>22.0</td>\n",
       "      <td>3.0</td>\n",
       "      <td>3.0</td>\n",
       "      <td>22.0</td>\n",
       "      <td>22.0</td>\n",
       "      <td>39.7</td>\n",
       "      <td>12.775585</td>\n",
       "      <td>395</td>\n",
       "      <td>163.215580</td>\n",
       "    </tr>\n",
       "    <tr>\n",
       "      <th>0</th>\n",
       "      <td>0.804</td>\n",
       "      <td>-0.396</td>\n",
       "      <td>2.973812e-18</td>\n",
       "      <td>0.005</td>\n",
       "      <td>-0.12500</td>\n",
       "      <td>-0.30115</td>\n",
       "      <td>0.005</td>\n",
       "      <td>0.13400</td>\n",
       "      <td>0.134</td>\n",
       "      <td>0.214389</td>\n",
       "      <td>...</td>\n",
       "      <td>16.035714</td>\n",
       "      <td>22.0</td>\n",
       "      <td>3.0</td>\n",
       "      <td>3.0</td>\n",
       "      <td>22.0</td>\n",
       "      <td>22.0</td>\n",
       "      <td>39.3</td>\n",
       "      <td>12.568279</td>\n",
       "      <td>449</td>\n",
       "      <td>157.961640</td>\n",
       "    </tr>\n",
       "    <tr>\n",
       "      <th>0</th>\n",
       "      <td>0.817</td>\n",
       "      <td>-0.384</td>\n",
       "      <td>-2.312965e-18</td>\n",
       "      <td>-0.114</td>\n",
       "      <td>-0.18125</td>\n",
       "      <td>-0.38400</td>\n",
       "      <td>-0.114</td>\n",
       "      <td>0.14600</td>\n",
       "      <td>0.817</td>\n",
       "      <td>0.366888</td>\n",
       "      <td>...</td>\n",
       "      <td>24.958333</td>\n",
       "      <td>22.0</td>\n",
       "      <td>22.0</td>\n",
       "      <td>3.0</td>\n",
       "      <td>22.0</td>\n",
       "      <td>38.5</td>\n",
       "      <td>40.0</td>\n",
       "      <td>13.763465</td>\n",
       "      <td>599</td>\n",
       "      <td>189.432971</td>\n",
       "    </tr>\n",
       "  </tbody>\n",
       "</table>\n",
       "<p>5 rows × 133 columns</p>\n",
       "</div>"
      ],
      "text/plain": [
       "   charge_factor_amax  charge_factor_amin  charge_factor_mean  \\\n",
       "0               0.800              -0.580        1.168656e-17   \n",
       "0               0.810              -0.390        1.189525e-17   \n",
       "0               0.806              -0.394        4.625929e-18   \n",
       "0               0.804              -0.396        2.973812e-18   \n",
       "0               0.817              -0.384       -2.312965e-18   \n",
       "\n",
       "   charge_factor_median  charge_factor_percentile_25  \\\n",
       "0                 0.001                     -0.12900   \n",
       "0                -0.121                     -0.24850   \n",
       "0                 0.005                     -0.12425   \n",
       "0                 0.005                     -0.12500   \n",
       "0                -0.114                     -0.18125   \n",
       "\n",
       "   charge_factor_percentile_5  charge_factor_percentile_50  \\\n",
       "0                    -0.41800                        0.001   \n",
       "0                    -0.39000                       -0.121   \n",
       "0                    -0.35365                        0.005   \n",
       "0                    -0.30115                        0.005   \n",
       "0                    -0.38400                       -0.114   \n",
       "\n",
       "   charge_factor_percentile_75  charge_factor_percentile_95  \\\n",
       "0                      0.13000                        0.575   \n",
       "0                      0.13900                        0.485   \n",
       "0                      0.07525                        0.136   \n",
       "0                      0.13400                        0.134   \n",
       "0                      0.14600                        0.817   \n",
       "\n",
       "   charge_factor_std      ...       type_num_mean  type_num_median  \\\n",
       "0           0.312473      ...           17.736842             22.0   \n",
       "0           0.332562      ...           31.642857             22.0   \n",
       "0           0.226129      ...           16.458333             22.0   \n",
       "0           0.214389      ...           16.035714             22.0   \n",
       "0           0.366888      ...           24.958333             22.0   \n",
       "\n",
       "   type_num_percentile_25  type_num_percentile_5  type_num_percentile_50  \\\n",
       "0                     3.0                    3.0                    22.0   \n",
       "0                    22.0                    3.0                    22.0   \n",
       "0                     3.0                    3.0                    22.0   \n",
       "0                     3.0                    3.0                    22.0   \n",
       "0                    22.0                    3.0                    22.0   \n",
       "\n",
       "   type_num_percentile_75  type_num_percentile_95  type_num_std  type_num_sum  \\\n",
       "0                    22.0                    40.2     14.324967           337   \n",
       "0                    39.5                    92.0     28.399911           443   \n",
       "0                    22.0                    39.7     12.775585           395   \n",
       "0                    22.0                    39.3     12.568279           449   \n",
       "0                    38.5                    40.0     13.763465           599   \n",
       "\n",
       "   type_num_var  \n",
       "0    205.204678  \n",
       "0    806.554945  \n",
       "0    163.215580  \n",
       "0    157.961640  \n",
       "0    189.432971  \n",
       "\n",
       "[5 rows x 133 columns]"
      ]
     },
     "execution_count": 217,
     "metadata": {},
     "output_type": "execute_result"
    }
   ],
   "source": [
    "molecule_atom_flat.head()"
   ]
  },
  {
   "cell_type": "code",
   "execution_count": 238,
   "metadata": {
    "collapsed": false
   },
   "outputs": [],
   "source": [
    "modelling_dataset = molecule.merge(molecule_atom_flat)"
   ]
  },
  {
   "cell_type": "code",
   "execution_count": 240,
   "metadata": {
    "collapsed": false
   },
   "outputs": [],
   "source": [
    "X = modelling_dataset.drop(['molecule_id', 'mutagenic'], axis=1)\n",
    "# fill all na with mean - there will be nas if certain classes weren't in the dataset...\n",
    "#X = X.apply(lambda x: x.fillna(x.mean()),axis=0) # for mean\n",
    "X = X.fillna(0)\n",
    "\n",
    "y = modelling_dataset['mutagenic'].tolist()"
   ]
  },
  {
   "cell_type": "code",
   "execution_count": 241,
   "metadata": {
    "collapsed": false
   },
   "outputs": [],
   "source": [
    "X_m = X.as_matrix()"
   ]
  },
  {
   "cell_type": "code",
   "execution_count": 249,
   "metadata": {
    "collapsed": false
   },
   "outputs": [
    {
     "name": "stdout",
     "output_type": "stream",
     "text": [
      "Accuracy: 0.6403508771929824\n"
     ]
    }
   ],
   "source": [
    "model = make_pipeline(SelectFwe(f_classif, alpha=0.05), SGDClassifier())\n",
    "model = SGDClassifier(penalty='l1')\n",
    "kfold = KFold(n_splits=10, shuffle=False, random_state=42)\n",
    "results = cross_val_score(model, X, y, cv=kfold)\n",
    "print(\"Accuracy: {}\".format(results.mean()))"
   ]
  }
 ],
 "metadata": {
  "kernelspec": {
   "display_name": "Python 3",
   "language": "python",
   "name": "python3"
  },
  "language_info": {
   "codemirror_mode": {
    "name": "ipython",
    "version": 3
   },
   "file_extension": ".py",
   "mimetype": "text/x-python",
   "name": "python",
   "nbconvert_exporter": "python",
   "pygments_lexer": "ipython3",
   "version": "3.6.0"
  }
 },
 "nbformat": 4,
 "nbformat_minor": 2
}
