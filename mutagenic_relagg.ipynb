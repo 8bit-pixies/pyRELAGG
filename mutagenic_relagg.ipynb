{
 "cells": [
  {
   "cell_type": "code",
   "execution_count": 1,
   "metadata": {
    "collapsed": true
   },
   "outputs": [],
   "source": [
    "import pandas as pd\n",
    "import numpy as np\n",
    "import networkx as nx\n",
    "\n",
    "from sklearn.model_selection import KFold\n",
    "from sklearn.model_selection import cross_val_score\n",
    "from sklearn.metrics import make_scorer, accuracy_score, mean_squared_error\n",
    "from sklearn.linear_model import SGDClassifier\n",
    "from sklearn.pipeline import make_pipeline\n",
    "from sklearn.feature_selection import SelectFwe, f_classif # f score\n",
    "from sklearn.decomposition import PCA\n",
    "from sklearn.feature_selection import RFE"
   ]
  },
  {
   "cell_type": "code",
   "execution_count": 2,
   "metadata": {
    "collapsed": true
   },
   "outputs": [],
   "source": [
    "atom = pd.read_pickle('atom.pkl')\n",
    "bond = pd.read_pickle('bond.pkl')\n",
    "molecule = pd.read_pickle('molecule.pkl')"
   ]
  },
  {
   "cell_type": "code",
   "execution_count": 3,
   "metadata": {},
   "outputs": [
    {
     "data": {
      "text/html": [
       "<div>\n",
       "<style>\n",
       "    .dataframe thead tr:only-child th {\n",
       "        text-align: right;\n",
       "    }\n",
       "\n",
       "    .dataframe thead th {\n",
       "        text-align: left;\n",
       "    }\n",
       "\n",
       "    .dataframe tbody tr th {\n",
       "        vertical-align: top;\n",
       "    }\n",
       "</style>\n",
       "<table border=\"1\" class=\"dataframe\">\n",
       "  <thead>\n",
       "    <tr style=\"text-align: right;\">\n",
       "      <th></th>\n",
       "      <th>atom_id</th>\n",
       "      <th>charge</th>\n",
       "      <th>element</th>\n",
       "      <th>molecule_id</th>\n",
       "      <th>type</th>\n",
       "    </tr>\n",
       "  </thead>\n",
       "  <tbody>\n",
       "    <tr>\n",
       "      <th>0</th>\n",
       "      <td>d100_1</td>\n",
       "      <td>-0.128</td>\n",
       "      <td>c</td>\n",
       "      <td>d100</td>\n",
       "      <td>22</td>\n",
       "    </tr>\n",
       "    <tr>\n",
       "      <th>1</th>\n",
       "      <td>d100_10</td>\n",
       "      <td>0.132</td>\n",
       "      <td>h</td>\n",
       "      <td>d100</td>\n",
       "      <td>3</td>\n",
       "    </tr>\n",
       "    <tr>\n",
       "      <th>2</th>\n",
       "      <td>d100_11</td>\n",
       "      <td>0.002</td>\n",
       "      <td>c</td>\n",
       "      <td>d100</td>\n",
       "      <td>29</td>\n",
       "    </tr>\n",
       "    <tr>\n",
       "      <th>3</th>\n",
       "      <td>d100_12</td>\n",
       "      <td>-0.128</td>\n",
       "      <td>c</td>\n",
       "      <td>d100</td>\n",
       "      <td>22</td>\n",
       "    </tr>\n",
       "    <tr>\n",
       "      <th>4</th>\n",
       "      <td>d100_13</td>\n",
       "      <td>-0.128</td>\n",
       "      <td>c</td>\n",
       "      <td>d100</td>\n",
       "      <td>22</td>\n",
       "    </tr>\n",
       "  </tbody>\n",
       "</table>\n",
       "</div>"
      ],
      "text/plain": [
       "   atom_id  charge element molecule_id  type\n",
       "0   d100_1  -0.128       c        d100    22\n",
       "1  d100_10   0.132       h        d100     3\n",
       "2  d100_11   0.002       c        d100    29\n",
       "3  d100_12  -0.128       c        d100    22\n",
       "4  d100_13  -0.128       c        d100    22"
      ]
     },
     "execution_count": 3,
     "metadata": {},
     "output_type": "execute_result"
    }
   ],
   "source": [
    "atom.head()"
   ]
  },
  {
   "cell_type": "code",
   "execution_count": 4,
   "metadata": {},
   "outputs": [
    {
     "data": {
      "text/html": [
       "<div>\n",
       "<style>\n",
       "    .dataframe thead tr:only-child th {\n",
       "        text-align: right;\n",
       "    }\n",
       "\n",
       "    .dataframe thead th {\n",
       "        text-align: left;\n",
       "    }\n",
       "\n",
       "    .dataframe tbody tr th {\n",
       "        vertical-align: top;\n",
       "    }\n",
       "</style>\n",
       "<table border=\"1\" class=\"dataframe\">\n",
       "  <thead>\n",
       "    <tr style=\"text-align: right;\">\n",
       "      <th></th>\n",
       "      <th>atom1_id</th>\n",
       "      <th>atom2_id</th>\n",
       "      <th>type</th>\n",
       "    </tr>\n",
       "  </thead>\n",
       "  <tbody>\n",
       "    <tr>\n",
       "      <th>0</th>\n",
       "      <td>d100_1</td>\n",
       "      <td>d100_2</td>\n",
       "      <td>7</td>\n",
       "    </tr>\n",
       "    <tr>\n",
       "      <th>1</th>\n",
       "      <td>d100_1</td>\n",
       "      <td>d100_7</td>\n",
       "      <td>1</td>\n",
       "    </tr>\n",
       "    <tr>\n",
       "      <th>2</th>\n",
       "      <td>d100_11</td>\n",
       "      <td>d100_12</td>\n",
       "      <td>7</td>\n",
       "    </tr>\n",
       "    <tr>\n",
       "      <th>3</th>\n",
       "      <td>d100_12</td>\n",
       "      <td>d100_13</td>\n",
       "      <td>7</td>\n",
       "    </tr>\n",
       "    <tr>\n",
       "      <th>4</th>\n",
       "      <td>d100_12</td>\n",
       "      <td>d100_17</td>\n",
       "      <td>1</td>\n",
       "    </tr>\n",
       "  </tbody>\n",
       "</table>\n",
       "</div>"
      ],
      "text/plain": [
       "  atom1_id atom2_id  type\n",
       "0   d100_1   d100_2     7\n",
       "1   d100_1   d100_7     1\n",
       "2  d100_11  d100_12     7\n",
       "3  d100_12  d100_13     7\n",
       "4  d100_12  d100_17     1"
      ]
     },
     "execution_count": 4,
     "metadata": {},
     "output_type": "execute_result"
    }
   ],
   "source": [
    "bond.head()"
   ]
  },
  {
   "cell_type": "code",
   "execution_count": 5,
   "metadata": {},
   "outputs": [
    {
     "data": {
      "text/html": [
       "<div>\n",
       "<style>\n",
       "    .dataframe thead tr:only-child th {\n",
       "        text-align: right;\n",
       "    }\n",
       "\n",
       "    .dataframe thead th {\n",
       "        text-align: left;\n",
       "    }\n",
       "\n",
       "    .dataframe tbody tr th {\n",
       "        vertical-align: top;\n",
       "    }\n",
       "</style>\n",
       "<table border=\"1\" class=\"dataframe\">\n",
       "  <thead>\n",
       "    <tr style=\"text-align: right;\">\n",
       "      <th></th>\n",
       "      <th>ind1</th>\n",
       "      <th>inda</th>\n",
       "      <th>logp</th>\n",
       "      <th>lumo</th>\n",
       "      <th>molecule_id</th>\n",
       "      <th>mutagenic</th>\n",
       "    </tr>\n",
       "  </thead>\n",
       "  <tbody>\n",
       "    <tr>\n",
       "      <th>0</th>\n",
       "      <td>1</td>\n",
       "      <td>0</td>\n",
       "      <td>4.23</td>\n",
       "      <td>-1.246</td>\n",
       "      <td>d1</td>\n",
       "      <td>yes</td>\n",
       "    </tr>\n",
       "    <tr>\n",
       "      <th>1</th>\n",
       "      <td>1</td>\n",
       "      <td>0</td>\n",
       "      <td>4.62</td>\n",
       "      <td>-1.387</td>\n",
       "      <td>d10</td>\n",
       "      <td>yes</td>\n",
       "    </tr>\n",
       "    <tr>\n",
       "      <th>2</th>\n",
       "      <td>0</td>\n",
       "      <td>0</td>\n",
       "      <td>2.68</td>\n",
       "      <td>-1.034</td>\n",
       "      <td>d100</td>\n",
       "      <td>no</td>\n",
       "    </tr>\n",
       "    <tr>\n",
       "      <th>3</th>\n",
       "      <td>1</td>\n",
       "      <td>0</td>\n",
       "      <td>6.26</td>\n",
       "      <td>-1.598</td>\n",
       "      <td>d101</td>\n",
       "      <td>yes</td>\n",
       "    </tr>\n",
       "    <tr>\n",
       "      <th>4</th>\n",
       "      <td>1</td>\n",
       "      <td>0</td>\n",
       "      <td>2.40</td>\n",
       "      <td>-3.172</td>\n",
       "      <td>d102</td>\n",
       "      <td>yes</td>\n",
       "    </tr>\n",
       "  </tbody>\n",
       "</table>\n",
       "</div>"
      ],
      "text/plain": [
       "   ind1  inda  logp   lumo molecule_id mutagenic\n",
       "0     1     0  4.23 -1.246          d1       yes\n",
       "1     1     0  4.62 -1.387         d10       yes\n",
       "2     0     0  2.68 -1.034        d100        no\n",
       "3     1     0  6.26 -1.598        d101       yes\n",
       "4     1     0  2.40 -3.172        d102       yes"
      ]
     },
     "execution_count": 5,
     "metadata": {},
     "output_type": "execute_result"
    }
   ],
   "source": [
    "molecule.head()"
   ]
  },
  {
   "cell_type": "markdown",
   "metadata": {},
   "source": [
    "Aim of this dataset is to determine if molecules are mutagenic.\n",
    "\n",
    "Outline of procedure to apply RELAGG is to:\n",
    "1. Determine all the pairwise id relationships used to join\n",
    "2. Determine the star schema which we wish to aggregate\n",
    "3. Produce a flattened dataset as needed\n",
    "\n",
    "---\n",
    "\n",
    "To produce the correct dataset I propose that we:\n",
    "\n",
    "*  produce pair wise relationship `molecule_id -> atom_id -> [atom1_id, atom2_id] -> atom_id`"
   ]
  },
  {
   "cell_type": "code",
   "execution_count": 6,
   "metadata": {
    "collapsed": true
   },
   "outputs": [],
   "source": [
    "m_atom = atom[['molecule_id', 'atom_id']].to_dict(orient='records')\n",
    "atom_a1 = bond[['atom1_id', 'atom2_id']].rename(columns={'atom2_id':'atom_id'}).to_dict(orient='records')\n",
    "atom_a2 = bond[['atom1_id', 'atom2_id']].rename(columns={'atom1_id':'atom_id'}).to_dict(orient='records')\n",
    "\n",
    "# produce a flatten structure with all data"
   ]
  },
  {
   "cell_type": "code",
   "execution_count": 7,
   "metadata": {},
   "outputs": [],
   "source": [
    "m_atom_pairs = [(\"molecule_id:{}\".format(x['molecule_id']), \"atom_id:{}\".format(x['atom_id']))\n",
    "  for x in m_atom\n",
    "]\n",
    "atom_a2_pairs = [(\"atom_id:{}\".format(x['atom_id']), \"atom_id:{}\".format(x['atom2_id']))\n",
    "  for x in atom_a2\n",
    "]\n",
    "atom_a1_pairs = [(\"atom_id:{}\".format(x['atom_id']), \"atom_id:{}\".format(x['atom1_id']))\n",
    "  for x in atom_a1\n",
    "]\n"
   ]
  },
  {
   "cell_type": "code",
   "execution_count": 8,
   "metadata": {
    "collapsed": true
   },
   "outputs": [],
   "source": [
    "all_molecule_id = list(set([x[0] for x in m_atom_pairs]))\n",
    "\n",
    "G = nx.Graph() # we have cycles in this representation\n",
    "G.add_nodes_from(all_molecule_id) # orient from entity level of molecule\n",
    "G.add_nodes_from([x[1] for x in m_atom_pairs]) # add all atoms\n",
    "G.add_edges_from(m_atom_pairs)\n",
    "G.add_edges_from(atom_a2_pairs)\n",
    "G.add_edges_from(atom_a1_pairs)"
   ]
  },
  {
   "cell_type": "code",
   "execution_count": 9,
   "metadata": {},
   "outputs": [
    {
     "data": {
      "text/plain": [
       "['molecule_id:d128',\n",
       " 'atom_id:d128_11',\n",
       " 'atom_id:d128_19',\n",
       " 'atom_id:d128_7',\n",
       " 'atom_id:d128_12',\n",
       " 'atom_id:d128_6',\n",
       " 'atom_id:d128_5',\n",
       " 'atom_id:d128_18',\n",
       " 'atom_id:d128_2',\n",
       " 'atom_id:d128_16',\n",
       " 'atom_id:d128_8',\n",
       " 'atom_id:d128_20',\n",
       " 'atom_id:d128_1',\n",
       " 'atom_id:d128_17',\n",
       " 'atom_id:d128_22',\n",
       " 'atom_id:d128_10',\n",
       " 'atom_id:d128_4',\n",
       " 'atom_id:d128_3',\n",
       " 'atom_id:d128_13',\n",
       " 'atom_id:d128_14',\n",
       " 'atom_id:d128_9',\n",
       " 'atom_id:d128_21',\n",
       " 'atom_id:d128_15']"
      ]
     },
     "execution_count": 9,
     "metadata": {},
     "output_type": "execute_result"
    }
   ],
   "source": [
    "# To get all atoms connected to molecule we would do this:\n",
    "list(nx.single_source_shortest_path_length(G, all_molecule_id[0]).keys())"
   ]
  },
  {
   "cell_type": "code",
   "execution_count": 10,
   "metadata": {},
   "outputs": [],
   "source": [
    "def clean_molecule_atom_rship(ls):\n",
    "    atoms = [x.split(':')[1] for x in ls if not x.startswith(\"molecule\")]\n",
    "    molecule = [x.split(':')[1] for x in ls if x.startswith(\"molecule\")][0]\n",
    "    return (molecule, atoms)"
   ]
  },
  {
   "cell_type": "code",
   "execution_count": 11,
   "metadata": {},
   "outputs": [
    {
     "data": {
      "text/plain": [
       "('d128',\n",
       " ['d128_11',\n",
       "  'd128_19',\n",
       "  'd128_7',\n",
       "  'd128_12',\n",
       "  'd128_6',\n",
       "  'd128_5',\n",
       "  'd128_18',\n",
       "  'd128_2',\n",
       "  'd128_16',\n",
       "  'd128_8',\n",
       "  'd128_20',\n",
       "  'd128_1',\n",
       "  'd128_17',\n",
       "  'd128_22',\n",
       "  'd128_10',\n",
       "  'd128_4',\n",
       "  'd128_3',\n",
       "  'd128_13',\n",
       "  'd128_14',\n",
       "  'd128_9',\n",
       "  'd128_21',\n",
       "  'd128_15'])"
      ]
     },
     "execution_count": 11,
     "metadata": {},
     "output_type": "execute_result"
    }
   ],
   "source": [
    "# get all relationships of interest at molecule level\n",
    "molecule_level_rship = [\n",
    "    clean_molecule_atom_rship(list(nx.single_source_shortest_path_length(G, x).keys())) for x in \n",
    "    all_molecule_id\n",
    "]\n",
    "molecule_level_rship[0]"
   ]
  },
  {
   "cell_type": "markdown",
   "metadata": {},
   "source": [
    "From here we will need to aggregate all this data to a single record. \n",
    "\n",
    "Assume columns:\n",
    "*  `type` are categorical\n",
    "\n",
    "We will only use te `atom` table as the flat entity table."
   ]
  },
  {
   "cell_type": "code",
   "execution_count": 12,
   "metadata": {
    "collapsed": true
   },
   "outputs": [],
   "source": [
    "def dataframe_info(df, prefix='num'):\n",
    "    \"\"\"\n",
    "    returns a dataframe with a single row, \n",
    "    where the column names as `col_{statistic}`\n",
    "    \"\"\"\n",
    "    #df = pd.DataFrame({col: srs})\n",
    "    def percentile(n):\n",
    "        def percentile_(x):\n",
    "            return np.percentile(x, n)\n",
    "        percentile_.__name__ = 'percentile_%s' % n\n",
    "        return percentile_\n",
    "    df_desc = df.groupby([True]*len(df)).agg([np.sum, np.mean, np.std, np.median,\n",
    "                    np.var, np.min, np.max, percentile(5), percentile(25), \n",
    "                    percentile(50), percentile(75), percentile(95)])\n",
    "    df_desc.reset_index(drop=True, inplace=True)\n",
    "    df_desc.columns = [('_{}_'.format(prefix)).join(x).strip() for x in df_desc.columns.values]\n",
    "    return df_desc"
   ]
  },
  {
   "cell_type": "code",
   "execution_count": 13,
   "metadata": {
    "collapsed": true
   },
   "outputs": [],
   "source": [
    "def dataset_info(df, entity_name, entity_id, numeric=None, factor=None, factor_num = 50):\n",
    "    \"\"\"\n",
    "    will flatten a dataset based on numeric and factor variables\n",
    "    factor variables will change to one-hot encoding.\n",
    "    \"\"\"\n",
    "    df_info = []\n",
    "    if numeric is None:\n",
    "        newdf = dataframe_info(df.select_dtypes(include=[np.number]))\n",
    "    else:\n",
    "        newdf = dataframe_info(df[numeric])\n",
    "        \n",
    "    # factor information will one hot if unique number is less than 50\n",
    "    if factor is None:\n",
    "        factor = []\n",
    "        for col in df.columns:\n",
    "            if len(df[col].unique()) <= factor_num and not col.startswith(entity_name):\n",
    "                factor.append(col)\n",
    "    \n",
    "    newfactor = dataframe_info(pd.get_dummies(df[factor]), 'factor')\n",
    "    flatten_df = pd.concat([pd.DataFrame({entity_name:[entity_id]}), \n",
    "                            newdf, newfactor], axis=1)\n",
    "    return flatten_df\n"
   ]
  },
  {
   "cell_type": "code",
   "execution_count": 14,
   "metadata": {
    "scrolled": true
   },
   "outputs": [
    {
     "data": {
      "text/plain": [
       "['molecule_id',\n",
       " 'charge_num_sum',\n",
       " 'charge_num_mean',\n",
       " 'charge_num_std',\n",
       " 'charge_num_median',\n",
       " 'charge_num_var',\n",
       " 'charge_num_amin',\n",
       " 'charge_num_amax',\n",
       " 'charge_num_percentile_5',\n",
       " 'charge_num_percentile_25',\n",
       " 'charge_num_percentile_50',\n",
       " 'charge_num_percentile_75',\n",
       " 'charge_num_percentile_95',\n",
       " 'type_num_sum',\n",
       " 'type_num_mean',\n",
       " 'type_num_std',\n",
       " 'type_num_median',\n",
       " 'type_num_var',\n",
       " 'type_num_amin',\n",
       " 'type_num_amax',\n",
       " 'type_num_percentile_5',\n",
       " 'type_num_percentile_25',\n",
       " 'type_num_percentile_50',\n",
       " 'type_num_percentile_75',\n",
       " 'type_num_percentile_95',\n",
       " 'charge_factor_sum',\n",
       " 'charge_factor_mean',\n",
       " 'charge_factor_std',\n",
       " 'charge_factor_median',\n",
       " 'charge_factor_var',\n",
       " 'charge_factor_amin',\n",
       " 'charge_factor_amax',\n",
       " 'charge_factor_percentile_5',\n",
       " 'charge_factor_percentile_25',\n",
       " 'charge_factor_percentile_50',\n",
       " 'charge_factor_percentile_75',\n",
       " 'charge_factor_percentile_95',\n",
       " 'type_factor_sum',\n",
       " 'type_factor_mean',\n",
       " 'type_factor_std',\n",
       " 'type_factor_median',\n",
       " 'type_factor_var',\n",
       " 'type_factor_amin',\n",
       " 'type_factor_amax',\n",
       " 'type_factor_percentile_5',\n",
       " 'type_factor_percentile_25',\n",
       " 'type_factor_percentile_50',\n",
       " 'type_factor_percentile_75',\n",
       " 'type_factor_percentile_95',\n",
       " 'element_c_factor_sum',\n",
       " 'element_c_factor_mean',\n",
       " 'element_c_factor_std',\n",
       " 'element_c_factor_median',\n",
       " 'element_c_factor_var',\n",
       " 'element_c_factor_amin',\n",
       " 'element_c_factor_amax',\n",
       " 'element_c_factor_percentile_5',\n",
       " 'element_c_factor_percentile_25',\n",
       " 'element_c_factor_percentile_50',\n",
       " 'element_c_factor_percentile_75',\n",
       " 'element_c_factor_percentile_95',\n",
       " 'element_h_factor_sum',\n",
       " 'element_h_factor_mean',\n",
       " 'element_h_factor_std',\n",
       " 'element_h_factor_median',\n",
       " 'element_h_factor_var',\n",
       " 'element_h_factor_amin',\n",
       " 'element_h_factor_amax',\n",
       " 'element_h_factor_percentile_5',\n",
       " 'element_h_factor_percentile_25',\n",
       " 'element_h_factor_percentile_50',\n",
       " 'element_h_factor_percentile_75',\n",
       " 'element_h_factor_percentile_95',\n",
       " 'element_n_factor_sum',\n",
       " 'element_n_factor_mean',\n",
       " 'element_n_factor_std',\n",
       " 'element_n_factor_median',\n",
       " 'element_n_factor_var',\n",
       " 'element_n_factor_amin',\n",
       " 'element_n_factor_amax',\n",
       " 'element_n_factor_percentile_5',\n",
       " 'element_n_factor_percentile_25',\n",
       " 'element_n_factor_percentile_50',\n",
       " 'element_n_factor_percentile_75',\n",
       " 'element_n_factor_percentile_95',\n",
       " 'element_o_factor_sum',\n",
       " 'element_o_factor_mean',\n",
       " 'element_o_factor_std',\n",
       " 'element_o_factor_median',\n",
       " 'element_o_factor_var',\n",
       " 'element_o_factor_amin',\n",
       " 'element_o_factor_amax',\n",
       " 'element_o_factor_percentile_5',\n",
       " 'element_o_factor_percentile_25',\n",
       " 'element_o_factor_percentile_50',\n",
       " 'element_o_factor_percentile_75',\n",
       " 'element_o_factor_percentile_95']"
      ]
     },
     "execution_count": 14,
     "metadata": {},
     "output_type": "execute_result"
    }
   ],
   "source": [
    "list(dataset_info(atom[atom['atom_id'].isin(molecule_level_rship[0][1])].drop('atom_id', axis=1), \n",
    "             'molecule_id', \n",
    "            molecule_level_rship[0][0]).columns)"
   ]
  },
  {
   "cell_type": "code",
   "execution_count": 15,
   "metadata": {},
   "outputs": [],
   "source": [
    "# construct this for all columns...\n",
    "molecule_atom_flat = pd.concat([\n",
    "    dataset_info(atom[atom['atom_id'].isin(x[1])].drop('atom_id', axis=1), \n",
    "             'molecule_id', \n",
    "            x[0])\n",
    "    for x in molecule_level_rship\n",
    "])"
   ]
  },
  {
   "cell_type": "code",
   "execution_count": 16,
   "metadata": {},
   "outputs": [
    {
     "data": {
      "text/html": [
       "<div>\n",
       "<style>\n",
       "    .dataframe thead tr:only-child th {\n",
       "        text-align: right;\n",
       "    }\n",
       "\n",
       "    .dataframe thead th {\n",
       "        text-align: left;\n",
       "    }\n",
       "\n",
       "    .dataframe tbody tr th {\n",
       "        vertical-align: top;\n",
       "    }\n",
       "</style>\n",
       "<table border=\"1\" class=\"dataframe\">\n",
       "  <thead>\n",
       "    <tr style=\"text-align: right;\">\n",
       "      <th></th>\n",
       "      <th>charge_factor_amax</th>\n",
       "      <th>charge_factor_amin</th>\n",
       "      <th>charge_factor_mean</th>\n",
       "      <th>charge_factor_median</th>\n",
       "      <th>charge_factor_percentile_25</th>\n",
       "      <th>charge_factor_percentile_5</th>\n",
       "      <th>charge_factor_percentile_50</th>\n",
       "      <th>charge_factor_percentile_75</th>\n",
       "      <th>charge_factor_percentile_95</th>\n",
       "      <th>charge_factor_std</th>\n",
       "      <th>...</th>\n",
       "      <th>type_num_mean</th>\n",
       "      <th>type_num_median</th>\n",
       "      <th>type_num_percentile_25</th>\n",
       "      <th>type_num_percentile_5</th>\n",
       "      <th>type_num_percentile_50</th>\n",
       "      <th>type_num_percentile_75</th>\n",
       "      <th>type_num_percentile_95</th>\n",
       "      <th>type_num_std</th>\n",
       "      <th>type_num_sum</th>\n",
       "      <th>type_num_var</th>\n",
       "    </tr>\n",
       "  </thead>\n",
       "  <tbody>\n",
       "    <tr>\n",
       "      <th>0</th>\n",
       "      <td>0.819</td>\n",
       "      <td>-0.381</td>\n",
       "      <td>-3.784851e-18</td>\n",
       "      <td>-0.080</td>\n",
       "      <td>-0.110</td>\n",
       "      <td>-0.36745</td>\n",
       "      <td>-0.080</td>\n",
       "      <td>0.1415</td>\n",
       "      <td>0.149</td>\n",
       "      <td>0.239584</td>\n",
       "      <td>...</td>\n",
       "      <td>19.045455</td>\n",
       "      <td>22.0</td>\n",
       "      <td>3.0</td>\n",
       "      <td>3.0</td>\n",
       "      <td>22.0</td>\n",
       "      <td>26.0</td>\n",
       "      <td>39.9</td>\n",
       "      <td>12.579186</td>\n",
       "      <td>419</td>\n",
       "      <td>158.235931</td>\n",
       "    </tr>\n",
       "    <tr>\n",
       "      <th>0</th>\n",
       "      <td>0.789</td>\n",
       "      <td>-0.411</td>\n",
       "      <td>0.000000e+00</td>\n",
       "      <td>0.090</td>\n",
       "      <td>-0.141</td>\n",
       "      <td>-0.38400</td>\n",
       "      <td>0.090</td>\n",
       "      <td>0.1200</td>\n",
       "      <td>0.120</td>\n",
       "      <td>0.238740</td>\n",
       "      <td>...</td>\n",
       "      <td>20.478261</td>\n",
       "      <td>22.0</td>\n",
       "      <td>3.0</td>\n",
       "      <td>3.0</td>\n",
       "      <td>22.0</td>\n",
       "      <td>26.0</td>\n",
       "      <td>40.0</td>\n",
       "      <td>14.048195</td>\n",
       "      <td>471</td>\n",
       "      <td>197.351779</td>\n",
       "    </tr>\n",
       "    <tr>\n",
       "      <th>0</th>\n",
       "      <td>0.835</td>\n",
       "      <td>-0.365</td>\n",
       "      <td>0.000000e+00</td>\n",
       "      <td>-0.094</td>\n",
       "      <td>-0.164</td>\n",
       "      <td>-0.33935</td>\n",
       "      <td>-0.094</td>\n",
       "      <td>0.1660</td>\n",
       "      <td>0.216</td>\n",
       "      <td>0.254246</td>\n",
       "      <td>...</td>\n",
       "      <td>32.208333</td>\n",
       "      <td>22.0</td>\n",
       "      <td>22.0</td>\n",
       "      <td>3.0</td>\n",
       "      <td>22.0</td>\n",
       "      <td>40.0</td>\n",
       "      <td>93.0</td>\n",
       "      <td>26.814952</td>\n",
       "      <td>773</td>\n",
       "      <td>719.041667</td>\n",
       "    </tr>\n",
       "    <tr>\n",
       "      <th>0</th>\n",
       "      <td>0.810</td>\n",
       "      <td>-0.540</td>\n",
       "      <td>1.434038e-17</td>\n",
       "      <td>-0.119</td>\n",
       "      <td>-0.389</td>\n",
       "      <td>-0.39000</td>\n",
       "      <td>-0.119</td>\n",
       "      <td>0.1410</td>\n",
       "      <td>0.810</td>\n",
       "      <td>0.400903</td>\n",
       "      <td>...</td>\n",
       "      <td>27.200000</td>\n",
       "      <td>25.5</td>\n",
       "      <td>22.0</td>\n",
       "      <td>3.0</td>\n",
       "      <td>25.5</td>\n",
       "      <td>40.0</td>\n",
       "      <td>40.0</td>\n",
       "      <td>12.777674</td>\n",
       "      <td>816</td>\n",
       "      <td>163.268966</td>\n",
       "    </tr>\n",
       "    <tr>\n",
       "      <th>0</th>\n",
       "      <td>0.807</td>\n",
       "      <td>-0.533</td>\n",
       "      <td>2.114711e-17</td>\n",
       "      <td>0.058</td>\n",
       "      <td>-0.122</td>\n",
       "      <td>-0.39300</td>\n",
       "      <td>0.058</td>\n",
       "      <td>0.1370</td>\n",
       "      <td>0.307</td>\n",
       "      <td>0.296773</td>\n",
       "      <td>...</td>\n",
       "      <td>18.047619</td>\n",
       "      <td>22.0</td>\n",
       "      <td>3.0</td>\n",
       "      <td>3.0</td>\n",
       "      <td>22.0</td>\n",
       "      <td>26.0</td>\n",
       "      <td>40.0</td>\n",
       "      <td>14.157953</td>\n",
       "      <td>379</td>\n",
       "      <td>200.447619</td>\n",
       "    </tr>\n",
       "  </tbody>\n",
       "</table>\n",
       "<p>5 rows × 133 columns</p>\n",
       "</div>"
      ],
      "text/plain": [
       "   charge_factor_amax  charge_factor_amin  charge_factor_mean  \\\n",
       "0               0.819              -0.381       -3.784851e-18   \n",
       "0               0.789              -0.411        0.000000e+00   \n",
       "0               0.835              -0.365        0.000000e+00   \n",
       "0               0.810              -0.540        1.434038e-17   \n",
       "0               0.807              -0.533        2.114711e-17   \n",
       "\n",
       "   charge_factor_median  charge_factor_percentile_25  \\\n",
       "0                -0.080                       -0.110   \n",
       "0                 0.090                       -0.141   \n",
       "0                -0.094                       -0.164   \n",
       "0                -0.119                       -0.389   \n",
       "0                 0.058                       -0.122   \n",
       "\n",
       "   charge_factor_percentile_5  charge_factor_percentile_50  \\\n",
       "0                    -0.36745                       -0.080   \n",
       "0                    -0.38400                        0.090   \n",
       "0                    -0.33935                       -0.094   \n",
       "0                    -0.39000                       -0.119   \n",
       "0                    -0.39300                        0.058   \n",
       "\n",
       "   charge_factor_percentile_75  charge_factor_percentile_95  \\\n",
       "0                       0.1415                        0.149   \n",
       "0                       0.1200                        0.120   \n",
       "0                       0.1660                        0.216   \n",
       "0                       0.1410                        0.810   \n",
       "0                       0.1370                        0.307   \n",
       "\n",
       "   charge_factor_std      ...       type_num_mean  type_num_median  \\\n",
       "0           0.239584      ...           19.045455             22.0   \n",
       "0           0.238740      ...           20.478261             22.0   \n",
       "0           0.254246      ...           32.208333             22.0   \n",
       "0           0.400903      ...           27.200000             25.5   \n",
       "0           0.296773      ...           18.047619             22.0   \n",
       "\n",
       "   type_num_percentile_25  type_num_percentile_5  type_num_percentile_50  \\\n",
       "0                     3.0                    3.0                    22.0   \n",
       "0                     3.0                    3.0                    22.0   \n",
       "0                    22.0                    3.0                    22.0   \n",
       "0                    22.0                    3.0                    25.5   \n",
       "0                     3.0                    3.0                    22.0   \n",
       "\n",
       "   type_num_percentile_75  type_num_percentile_95  type_num_std  type_num_sum  \\\n",
       "0                    26.0                    39.9     12.579186           419   \n",
       "0                    26.0                    40.0     14.048195           471   \n",
       "0                    40.0                    93.0     26.814952           773   \n",
       "0                    40.0                    40.0     12.777674           816   \n",
       "0                    26.0                    40.0     14.157953           379   \n",
       "\n",
       "   type_num_var  \n",
       "0    158.235931  \n",
       "0    197.351779  \n",
       "0    719.041667  \n",
       "0    163.268966  \n",
       "0    200.447619  \n",
       "\n",
       "[5 rows x 133 columns]"
      ]
     },
     "execution_count": 16,
     "metadata": {},
     "output_type": "execute_result"
    }
   ],
   "source": [
    "molecule_atom_flat.head()"
   ]
  },
  {
   "cell_type": "code",
   "execution_count": 17,
   "metadata": {},
   "outputs": [],
   "source": [
    "modelling_dataset = molecule.merge(molecule_atom_flat)"
   ]
  },
  {
   "cell_type": "code",
   "execution_count": 18,
   "metadata": {},
   "outputs": [],
   "source": [
    "X = modelling_dataset.drop(['molecule_id', 'mutagenic'], axis=1)\n",
    "# fill all na with mean - there will be nas if certain classes weren't in the dataset...\n",
    "#X = X.apply(lambda x: x.fillna(x.mean()),axis=0) # for mean\n",
    "X = X.fillna(0)\n",
    "\n",
    "y = modelling_dataset['mutagenic'].tolist()"
   ]
  },
  {
   "cell_type": "code",
   "execution_count": 19,
   "metadata": {},
   "outputs": [],
   "source": [
    "X_m = X.as_matrix()"
   ]
  },
  {
   "cell_type": "code",
   "execution_count": 20,
   "metadata": {},
   "outputs": [
    {
     "name": "stdout",
     "output_type": "stream",
     "text": [
      "Accuracy: 0.6178362573099416\n"
     ]
    }
   ],
   "source": [
    "model = make_pipeline(PCA(40), SGDClassifier())\n",
    "model = SGDClassifier(penalty='l1')\n",
    "kfold = KFold(n_splits=10, shuffle=False, random_state=42)\n",
    "results = cross_val_score(model, X, y, cv=kfold)\n",
    "print(\"Accuracy: {}\".format(results.mean()))"
   ]
  },
  {
   "cell_type": "code",
   "execution_count": 21,
   "metadata": {},
   "outputs": [],
   "source": [
    "model = SGDClassifier()\n",
    "rfe = RFE(model, 40)\n",
    "rfe = rfe.fit(X, y)"
   ]
  },
  {
   "cell_type": "code",
   "execution_count": 22,
   "metadata": {},
   "outputs": [
    {
     "data": {
      "text/plain": [
       "SGDClassifier(alpha=0.0001, average=False, class_weight=None, epsilon=0.1,\n",
       "       eta0=0.0, fit_intercept=True, l1_ratio=0.15,\n",
       "       learning_rate='optimal', loss='hinge', n_iter=5, n_jobs=1,\n",
       "       penalty='l2', power_t=0.5, random_state=None, shuffle=True,\n",
       "       verbose=0, warm_start=False)"
      ]
     },
     "execution_count": 22,
     "metadata": {},
     "output_type": "execute_result"
    }
   ],
   "source": [
    "model.fit(X.as_matrix()[:, rfe.support_], y)"
   ]
  },
  {
   "cell_type": "code",
   "execution_count": 23,
   "metadata": {},
   "outputs": [
    {
     "name": "stdout",
     "output_type": "stream",
     "text": [
      "log loss rate: 0.648936170212766\n"
     ]
    }
   ],
   "source": [
    "yhat = model.predict(X.as_matrix()[:, rfe.support_])\n",
    "metric = accuracy_score(y, yhat)\n",
    "print(\"log loss rate: {}\".format(metric))"
   ]
  },
  {
   "cell_type": "code",
   "execution_count": 24,
   "metadata": {},
   "outputs": [
    {
     "name": "stdout",
     "output_type": "stream",
     "text": [
      "Warning: xgboost.XGBClassifier is not available and will not be used by TPOT.\n"
     ]
    }
   ],
   "source": [
    "from tpot import TPOTClassifier\n",
    "pipeline_optimizer = TPOTClassifier()\n",
    "#pipeline_optimizer.fit(X, y)"
   ]
  }
 ],
 "metadata": {
  "kernelspec": {
   "display_name": "Python [default]",
   "language": "python",
   "name": "python3"
  },
  "language_info": {
   "codemirror_mode": {
    "name": "ipython",
    "version": 3
   },
   "file_extension": ".py",
   "mimetype": "text/x-python",
   "name": "python",
   "nbconvert_exporter": "python",
   "pygments_lexer": "ipython3",
   "version": "3.5.2"
  }
 },
 "nbformat": 4,
 "nbformat_minor": 2
}
